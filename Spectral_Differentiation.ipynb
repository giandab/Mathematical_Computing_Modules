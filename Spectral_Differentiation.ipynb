{
 "cells": [
  {
   "cell_type": "markdown",
   "id": "99b7edca",
   "metadata": {},
   "source": [
    "## Instructions\n",
    "\n",
    "Before you submit this project, make sure everything runs as expected. First, **restart the kernel** (in the menubar, select Kernel$\\rightarrow$Restart) and then **run all cells** (in the menubar, select Cell$\\rightarrow$Run All).\n",
    "\n",
    "Please see the module book for full instructions on completing the project and submitting properly.\n",
    "\n",
    "Make sure you *only* fill in places that say `your code goes here` or \"YOUR ANSWER HERE\". Replace the contents of those cells only, changing other cells may prevent grading. It is recommended to work in a copy and enter final answers in the submission version at the end.\n",
    "\n",
    "When using matplotlib please make sure to use the inline option (not notebook) to allow grading: \n",
    "`%matplotlib inline`\n",
    "\n",
    "Be aware, marks are available for following the usual good practice guidlines when creating Python code; e.g. good use of functions, efficient coding conventions, code comments etc. "
   ]
  },
  {
   "cell_type": "markdown",
   "id": "51ebe680",
   "metadata": {},
   "source": [
    "---"
   ]
  },
  {
   "cell_type": "markdown",
   "id": "1105e832",
   "metadata": {
    "deletable": false,
    "editable": false,
    "nbgrader": {
     "cell_type": "markdown",
     "checksum": "262a6b099b837d28f860fcda59fcbe7a",
     "grade": false,
     "grade_id": "cell-9ba740ae78eb712b",
     "locked": true,
     "schema_version": 3,
     "solution": false,
     "task": false
    }
   },
   "source": [
    "# MT4112 Project 1: Spectral differentiation\n",
    "\n",
    "In this project we will consider the numerical differentiation of the following function\n",
    "\n",
    "$$\n",
    "f(x) = \\cos(4\\pi x)\\cos(\\pi x)\n",
    "$$\n",
    "\n",
    "## Q1\n",
    "\n",
    "Define $f(x)$ and $f'(x),$ as Python functions `f(x)` and `df(x)`. Your functions should be able to operate on `numpy` arrays have one parameter and return one Python variable. **[2]**"
   ]
  },
  {
   "cell_type": "code",
   "execution_count": 1,
   "id": "ee0cf67a",
   "metadata": {
    "deletable": false,
    "nbgrader": {
     "cell_type": "code",
     "checksum": "1e53d73a16f2b857cb0522a673a6d5b9",
     "grade": false,
     "grade_id": "cell-ed49e2b982b98833",
     "locked": false,
     "schema_version": 3,
     "solution": true,
     "task": false
    }
   },
   "outputs": [],
   "source": [
    "# your code goes here\n",
    "import numpy as np\n",
    "\n",
    "def f(x):\n",
    "    return np.cos(4*np.pi*x)*np.cos(np.pi*x)\n",
    "\n",
    "def df(x):\n",
    "    return -np.pi*(np.sin(np.pi*x)*np.cos(4*np.pi*x)+ 4*np.sin(4*np.pi*x)*np.cos(np.pi*x))\n",
    "\n",
    "\n",
    "\n",
    "\n"
   ]
  },
  {
   "cell_type": "code",
   "execution_count": 2,
   "id": "9f0678b6",
   "metadata": {
    "deletable": false,
    "editable": false,
    "nbgrader": {
     "cell_type": "code",
     "checksum": "289fb321c10255a2cfc553c73e7091c0",
     "grade": true,
     "grade_id": "cell-b73c06e336ca9715",
     "locked": true,
     "points": 2,
     "schema_version": 3,
     "solution": false,
     "task": false
    }
   },
   "outputs": [],
   "source": [
    "# Don't edit this cell\n",
    "\n",
    "if not \"f\" in globals():\n",
    "    raise NotImplementedError(\"f has not been defined in Question 1\")\n",
    "if not \"df\" in globals():\n",
    "    raise NotImplementedError(\"df has not been defined in Question 1\")\n"
   ]
  },
  {
   "cell_type": "markdown",
   "id": "3aed6853",
   "metadata": {
    "deletable": false,
    "editable": false,
    "nbgrader": {
     "cell_type": "markdown",
     "checksum": "600aba89e96a8e782d7ce35427de5358",
     "grade": false,
     "grade_id": "cell-1e4a58308e74eeb3",
     "locked": true,
     "schema_version": 3,
     "solution": false,
     "task": false
    }
   },
   "source": [
    "## Q2\n",
    "\n",
    "Consider the interval $x\\in[-1,1].$\n",
    "\n",
    "Define four functions which have as parameters the number of grid points `N` and function handle `f`, and returns two arrays \n",
    "* an array of appropriate $x$ points for the method and,\n",
    "* a numerical estimate of  $f'(x)$ on those points.\n",
    "        \n",
    "The functions/methods should be \n",
    "\n",
    "* `df_finite(N,f)` using second-order centered finite difference, using a differentiation matrix, on an evenly spaced **periodic** grid where $x(1)=x(-1)$.\n",
    "* `df_Fourier(N,f)` using the Fourier spectral method, also on an evenly spaced periodic grid where $x(1)=x(-1)$.\n",
    "* `df_Cheb1(N,f)` using the Chebyshev differentiation matrix, on the Chebyshev extremum points (code to construct the matrix can be taken from the notes).\n",
    "* `df_Cheb2(N,f)` using the full Chebyshev series evaluated using the discrete cosine transform as shown in lectures, and differentiating using the `numpy` function [`cheb.chebder`](https://numpy.org/doc/stable/reference/generated/numpy.polynomial.chebyshev.chebder.html), on the Chebyshev roots.\n",
    "\n",
    "\n",
    "**[10]** (2 marks for each function and 2 marks for good practice)"
   ]
  },
  {
   "cell_type": "code",
   "execution_count": 3,
   "id": "8e88ccf9",
   "metadata": {
    "deletable": false,
    "nbgrader": {
     "cell_type": "code",
     "checksum": "d1649c4c56550658974a7b76371ed0de",
     "grade": true,
     "grade_id": "cell-34f02d0f279a0471",
     "locked": false,
     "points": 2,
     "schema_version": 3,
     "solution": true,
     "task": false
    }
   },
   "outputs": [],
   "source": [
    "# your code goes here\n",
    "from scipy.fftpack import dct\n",
    "from numpy.polynomial import chebyshev as cheb\n",
    "\n",
    "\n",
    "def df_finite(N,f):\n",
    "\n",
    "    #Setting up parameters and grid\n",
    "    a = -1\n",
    "    b = 1\n",
    "    x1 = np.linspace(a,b,N)\n",
    "    h = (b-a)/(N-1)\n",
    "\n",
    "    #setting up the differentiation matrix using example from notes\n",
    "\n",
    "    ik = np.arange(N)     \n",
    "    matA = np.zeros((N,N))            \n",
    "    matA[ik[1:N],ik[1:N]-1] = -1  \n",
    "    matA[ik[1:N]-1,ik[1:N]] = 1   \n",
    "\n",
    "    derivative = np.zeros(N)\n",
    "    derivative = (1/(2*h))*(matA@f(x1))\n",
    "\n",
    "    #boundary points\n",
    "    derivative[0] = 0\n",
    "    derivative[N-1] = 0\n",
    "\n",
    "    return x1 , derivative\n",
    "\n",
    "\n",
    "def df_Fourier(N,f):\n",
    "\n",
    "    #setting up \n",
    "    x1 = np.linspace(-1,1-2/N,N)\n",
    "\n",
    "    u = f(x1)\n",
    "\n",
    "    #The algorithm is u -> (FFT) -> uhat -> (differentiation) -> i*k*uhat -> (IFFT) -> v\n",
    "\n",
    "    uhat = np.fft.rfft(u)/N\n",
    "\n",
    "    k = np.arange(0,N//2+1)*np.pi   #need to transform using k' = pi*k\n",
    "\n",
    "    vhat = 1j*k*uhat\n",
    "\n",
    "    v = N*np.fft.irfft(vhat)\n",
    "\n",
    "    return x1 , v\n",
    "\n",
    "\n",
    "def chebD(N): # Function from notes to obtain the Chebyshev differentiation matrix\n",
    "\n",
    "    if N==0:\n",
    "        D = 0.; x = 1.\n",
    "\n",
    "    else:\n",
    "        n = np.arange(0,N+1)\n",
    "        x = np.cos(np.pi*n/N).reshape(N+1,1)\n",
    "        c = (np.hstack(( [2.], np.ones(N-1), [2.]))*(-1)**n).reshape(N+1,1)\n",
    "        X = np.tile(x,(1,N+1))\n",
    "        dX = X - X.T\n",
    "        D = np.dot(c,1./c.T)/(dX+np.eye(N+1))\n",
    "        D -= np.diag(np.sum(D.T,axis=0))\n",
    "\n",
    "    return D, x.reshape(N+1)\n",
    "\n",
    "\n",
    "def df_Cheb1(N,f):\n",
    "\n",
    "    D,x = chebD(N) #getting the differentiation matrix\n",
    "\n",
    "    u = f(x)\n",
    "\n",
    "    v = D@u #to obtain derivative\n",
    "\n",
    "    return x,v\n",
    "\n",
    "\n",
    "def df_Cheb2(N,f):\n",
    "\n",
    "    \n",
    "    x = np.cos(np.pi*np.arange(N)/(N-1))\n",
    "    y = f(x)\n",
    "\n",
    "    cos_series = dct(y, type=1 , n = N)/(2*N - 2) #defining cos series as shown in notes\n",
    "    cos_series[1:-1] *= 2\n",
    "\n",
    "    v = cheb.chebder(cos_series) #differentiate chebyshev series\n",
    "\n",
    "    val = cheb.chebval(x,v) #evaluating on x points\n",
    "\n",
    "    return x , val\n",
    "\n",
    "\n",
    "    \n",
    "\n",
    "    "
   ]
  },
  {
   "cell_type": "code",
   "execution_count": 4,
   "id": "8344f9eb",
   "metadata": {
    "deletable": false,
    "editable": false,
    "nbgrader": {
     "cell_type": "code",
     "checksum": "60951f71768b651fee542482cf21d067",
     "grade": true,
     "grade_id": "cell-87a6f5f7603505d6",
     "locked": true,
     "points": 8,
     "schema_version": 3,
     "solution": false,
     "task": false
    }
   },
   "outputs": [],
   "source": [
    "# Don't edit this cell\n",
    "\n",
    "if not \"df_finite\" in globals():\n",
    "    raise NotImplementedError(\"df_finite has not been defined in Question 2\")\n",
    "if not \"df_Fourier\" in globals():\n",
    "    raise NotImplementedError(\"df_Fourier has not been defined in Question 2\")\n",
    "if not \"df_Cheb1\" in globals():\n",
    "    raise NotImplementedError(\"df_Cheb1 has not been defined in Question 2\")\n",
    "if not \"df_Cheb2\" in globals():\n",
    "    raise NotImplementedError(\"df_Cheb2 has not been defined in Question 2\")\n",
    "\n"
   ]
  },
  {
   "cell_type": "markdown",
   "id": "15b1fc46",
   "metadata": {
    "deletable": false,
    "editable": false,
    "nbgrader": {
     "cell_type": "markdown",
     "checksum": "4151a0b1dc6526a7aa7b8355165270fa",
     "grade": false,
     "grade_id": "cell-9efa5d8695f0419c",
     "locked": true,
     "schema_version": 3,
     "solution": false,
     "task": false
    }
   },
   "source": [
    "## Q3\n",
    "    \n",
    "For $N\\in\\{2^3,2^4,..,2^{10}\\}$ obtain the $L_\\infty$ error between the numerical approximation and the exact $f'(x),$ plotting the four numerical approximations on the same log-log axes, taking care to label your plot. **[3]**"
   ]
  },
  {
   "cell_type": "code",
   "execution_count": 5,
   "id": "e74cdbae",
   "metadata": {
    "deletable": false,
    "nbgrader": {
     "cell_type": "code",
     "checksum": "d7cd4e7b63221731245f618b5f894d88",
     "grade": true,
     "grade_id": "cell-22b816ef3dbeabc7",
     "locked": false,
     "points": 3,
     "schema_version": 3,
     "solution": true,
     "task": false
    }
   },
   "outputs": [
    {
     "data": {
      "image/png": "[encoded data removed]",
      "text/plain": [
       "<Figure size 640x480 with 1 Axes>"
      ]
     },
     "metadata": {},
     "output_type": "display_data"
    }
   ],
   "source": [
    "# your code goes here\n",
    "%matplotlib inline\n",
    "import matplotlib.pyplot as plt\n",
    "\n",
    "#code for Linf error\n",
    "def normInf(x):\n",
    "    norm = np.max(np.abs(x))\n",
    "    return norm\n",
    "\n",
    "plt.figure()\n",
    "\n",
    "\n",
    "#setting up N\n",
    "N = []\n",
    "for x in range(3,11):\n",
    "    N.append(2**x)\n",
    "\n",
    "\n",
    "for method in [df_finite,df_Fourier,df_Cheb1,df_Cheb2]:\n",
    "\n",
    "    linf = []\n",
    "    for i in N:\n",
    "        \n",
    "        #calculate and store linf error for given 2**k and method\n",
    "        x,v = method(i,f)\n",
    "        analytical = df(x)\n",
    "        error = v-analytical\n",
    "\n",
    "        linf.append(normInf(error))\n",
    "\n",
    "    plt.loglog(N,linf,label=method.__name__)\n",
    "\n",
    "plt.xlabel(\"N\")\n",
    "plt.ylabel(\"Linf error\")\n",
    "plt.legend();\n",
    "\n"
   ]
  },
  {
   "cell_type": "markdown",
   "id": "df80b3ea",
   "metadata": {
    "deletable": false,
    "editable": false,
    "nbgrader": {
     "cell_type": "markdown",
     "checksum": "32845d0e2431eb2379351470e0ce8245",
     "grade": false,
     "grade_id": "cell-680eeb8b02ba2e47",
     "locked": true,
     "schema_version": 3,
     "solution": false,
     "task": false
    }
   },
   "source": [
    "## Q4\n",
    "\n",
    "Time your functions with an appropriate method, taking care to account for function overhead. Plot your timing data to help answer the mutliple choice questions below. **[3]**"
   ]
  },
  {
   "cell_type": "code",
   "execution_count": 6,
   "id": "a07c63f2",
   "metadata": {
    "deletable": false,
    "nbgrader": {
     "cell_type": "code",
     "checksum": "2940dfb441d15fb9cc8e86bb001b8a8d",
     "grade": true,
     "grade_id": "cell-d16e6c9c9424968a",
     "locked": false,
     "points": 3,
     "schema_version": 3,
     "solution": true,
     "task": false
    }
   },
   "outputs": [
    {
     "data": {
      "image/png": "[encoded data removed]",
      "text/plain": [
       "<Figure size 640x480 with 1 Axes>"
      ]
     },
     "metadata": {},
     "output_type": "display_data"
    }
   ],
   "source": [
    "# your code goes here\n",
    "from time import perf_counter\n",
    "from statistics import mean\n",
    "\n",
    "plt.figure()\n",
    "\n",
    "N = [20,50,100,250,500,750,1000]\n",
    "\n",
    "for method in [df_finite,df_Fourier,df_Cheb1,df_Cheb2]:\n",
    "\n",
    "    time_taken = []\n",
    "\n",
    "    for n in N:\n",
    "\n",
    "        measurements = []\n",
    "\n",
    "        #taking 10 measurements for given magnitude and getting the average\n",
    "        for x in range(10):\n",
    "\n",
    "            start = perf_counter()\n",
    "\n",
    "            method(n,f)\n",
    "\n",
    "            end = perf_counter()\n",
    "\n",
    "            measurements.append(end-start)\n",
    "\n",
    "        time_taken.append(mean(measurements))\n",
    "\n",
    "    plt.plot(N,time_taken,label=method.__name__)\n",
    "\n",
    "plt.xlabel(\"Number of points\")\n",
    "plt.ylabel(\"Time (s)\")\n",
    "plt.legend();"
   ]
  },
  {
   "cell_type": "markdown",
   "id": "70948715",
   "metadata": {
    "deletable": false,
    "editable": false,
    "nbgrader": {
     "cell_type": "markdown",
     "checksum": "329b8e59d63a9696f8d15e7fe0c8ab6e",
     "grade": false,
     "grade_id": "cell-cdaf699d2e968f5b",
     "locked": true,
     "schema_version": 3,
     "solution": false,
     "task": false
    }
   },
   "source": [
    "Determine the answers to the following questions, creating variable names `A1`, `A2`, `A3`, `A4` and `A5` setting their value to be the single character string `a`, `b`, or `c` corresponding to your answer:\n",
    "\n",
    "### 4.1\n",
    "\n",
    "With a large number of points, the fastest numerical differentiation method is usually **[1/2]**\n",
    "\n",
    "**a** Fourier\n",
    "\n",
    "**b** Finite difference\n",
    "\n",
    "**c** Chebyshev Polynomial\n",
    "\n",
    "**d** Chebyshev Series\n",
    "\n",
    "### 4.2\n",
    "Given a certain amount of CPU time the least accurate numerical differentiation method is usually **[1/2]**\n",
    "\n",
    "**a** Fourier\n",
    "\n",
    "**b** Finite difference\n",
    "\n",
    "**c** Chebyshev Polynomial\n",
    "\n",
    "**d** Chebyshev Series\n",
    "\n",
    "### 4.3\n",
    "Overall, in terms of efficiency, the best approach to numerically differentiate this function is **[1/2]**\n",
    "\n",
    "**a** Fourier\n",
    "\n",
    "**b** Finite difference\n",
    "\n",
    "**c** Chebyshev Polynomial\n",
    "\n",
    "**d** Chebyshev Series\n",
    "\n",
    "### 4.4\n",
    "It is appropriate to use large numbers of points for the Fourier method for this function. **[1/2]**\n",
    "\n",
    "**a** True\n",
    "\n",
    "**b** False"
   ]
  },
  {
   "cell_type": "code",
   "execution_count": 7,
   "id": "0e729bbe",
   "metadata": {
    "deletable": false,
    "nbgrader": {
     "cell_type": "code",
     "checksum": "2767f1aef730b34d68c44b7be57a0af4",
     "grade": false,
     "grade_id": "cell-46fcf1e862039e7e",
     "locked": false,
     "schema_version": 3,
     "solution": true,
     "task": false
    }
   },
   "outputs": [],
   "source": [
    "# your code goes here\n",
    "A1 = \"a\"\n",
    "A2 = \"b\"\n",
    "A3 = \"a\"\n",
    "A4 = \"b\""
   ]
  },
  {
   "cell_type": "code",
   "execution_count": 8,
   "id": "3268b2de",
   "metadata": {
    "deletable": false,
    "editable": false,
    "nbgrader": {
     "cell_type": "code",
     "checksum": "e19180a2512bd937b4843530d05ab80f",
     "grade": true,
     "grade_id": "cell-4abca401b7339d30",
     "locked": true,
     "points": 2,
     "schema_version": 3,
     "solution": false,
     "task": false
    }
   },
   "outputs": [],
   "source": [
    "# Don't edit this cell\n",
    "\n",
    "if not \"A1\" in globals():\n",
    "    raise NotImplementedError(\"A1 has not been defined in Question 4\")\n",
    "if not \"A2\" in globals():\n",
    "    raise NotImplementedError(\"A2 has not been defined in Question 4\")\n",
    "if not \"A3\" in globals():\n",
    "    raise NotImplementedError(\"A3 has not been defined in Question 4\")\n",
    "if not \"A4\" in globals():\n",
    "    raise NotImplementedError(\"A4 has not been defined in Question 4\")\n",
    "\n"
   ]
  },
  {
   "cell_type": "markdown",
   "id": "8920ceb0",
   "metadata": {
    "deletable": false,
    "editable": false,
    "nbgrader": {
     "cell_type": "markdown",
     "checksum": "a24fe7699385a2cf6935ea5b6cd09f20",
     "grade": false,
     "grade_id": "cell-9bcab5052d4ab755",
     "locked": true,
     "schema_version": 3,
     "solution": false,
     "task": false
    }
   },
   "source": [
    "## Q5\n",
    "\n",
    "If we were to change the test function to \n",
    "\n",
    "$$\n",
    "g(x) = \\mathrm{sech}^2(x)\n",
    "$$\n",
    "\n",
    "which method (or methods) would be expected to perform best and why? Put your answer as a *short* free text response in the markdown cell below, you should not include any code or results. **[2]**"
   ]
  },
  {
   "cell_type": "markdown",
   "id": "fa6b714b",
   "metadata": {
    "deletable": false,
    "nbgrader": {
     "cell_type": "markdown",
     "checksum": "9de5705daa9e6247b6fd22e3039eeca7",
     "grade": true,
     "grade_id": "cell-13b5613f6e0b3e23",
     "locked": false,
     "points": 2,
     "schema_version": 3,
     "solution": true,
     "task": false
    }
   },
   "source": [
    "The derivative of g(x) is not periodic on [-1,1]. This suggests the Chebyshev methods would be a better choice than Fourier. I would not expect big differences in error between the Chebyshev methods and so given its greater speed, I would expect df_Cheb2 to perform the best."
   ]
  },
  {
   "cell_type": "markdown",
   "id": "a65ea10b",
   "metadata": {
    "deletable": false,
    "editable": false,
    "nbgrader": {
     "cell_type": "markdown",
     "checksum": "2820bf046fe55dfa65593d7cf71287ec",
     "grade": false,
     "grade_id": "cell-d4302966c99d9f40",
     "locked": true,
     "schema_version": 3,
     "solution": false,
     "task": false
    }
   },
   "source": [
    "## Q6\n",
    "\n",
    "A fourth-order finite difference scheme can be defined as\n",
    "\n",
    "$$\n",
    "f'(x_j) \\approx \\frac{f_{j-2}-8f_{j-1} + 8f_{j+1} - f_{j+2}}{12h}\n",
    "$$\n",
    "\n",
    "Implement this scheme via a differentiation matrix in the same format as the function `df_finite(N,f)` now called `df_finite4(N,f)`.\n",
    "\n",
    "Take care with the periodicity of the grid. Create a Python variable `err_FD4` for the $L_\\infty$ error with $N=128$. **[3]**"
   ]
  },
  {
   "cell_type": "code",
   "execution_count": 9,
   "id": "f1f33bea",
   "metadata": {
    "deletable": false,
    "nbgrader": {
     "cell_type": "code",
     "checksum": "c831f98d7362e23a6d61d5a1add3619a",
     "grade": true,
     "grade_id": "cell-99d3589ac1d01ccd",
     "locked": false,
     "points": 1,
     "schema_version": 3,
     "solution": true,
     "task": false
    }
   },
   "outputs": [],
   "source": [
    "# your code goes here\n",
    "def df_finite4(N,f):\n",
    "\n",
    "    #Setting up parameters and grid\n",
    "    a = -1\n",
    "    b = 1\n",
    "    x1 = np.linspace(a,b,N)\n",
    "    h = (b-a)/(N-1)\n",
    "\n",
    "    #Setting up differentiation matrix\n",
    "    ik = np.arange(N)     \n",
    "    matA = np.zeros((N,N))\n",
    "\n",
    "    #central diagonal is 0\n",
    "\n",
    "    #1st lower diagonal should be -8             \n",
    "    matA[ik[1:N],ik[1:N]-1] = -8\n",
    "\n",
    "    #2nd lower diagonal should be 1\n",
    "    matA[ik[2:N],ik[1:N-1]-1] = 1\n",
    "\n",
    "    #1st upper diagonal should be 8  \n",
    "    matA[ik[1:N]-1,ik[1:N]] = 8\n",
    "\n",
    "    #2nd upper diagonal should be -1\n",
    "    matA[ik[1:N-1]-1,ik[2:N]] = -1\n",
    "\n",
    "    derivative = np.zeros(N)\n",
    "    derivative = (1/(12*h))*(matA@f(x1))\n",
    "\n",
    "    #due to the nature of the scheme, the first two and last two points will not be accurate. Here I chose to set them manually\n",
    "    #using the analytical solution\n",
    "    \n",
    "    derivative[0:2] = df(x1[0:2])\n",
    "    derivative[-1:-3:-1] = df(x1[-1:-3:-1])\n",
    "\n",
    "    return x1 , derivative\n",
    "\n",
    "#getting error norm\n",
    "\n",
    "x , v = df_finite4(128,f)\n",
    "error = v -df(x)\n",
    "err_FD4 = normInf(error)"
   ]
  },
  {
   "cell_type": "code",
   "execution_count": 10,
   "id": "8923ce85",
   "metadata": {
    "deletable": false,
    "editable": false,
    "nbgrader": {
     "cell_type": "code",
     "checksum": "aa9d1cf8c2bb2c1c8e95e0bdf0c8923c",
     "grade": true,
     "grade_id": "cell-4d345e293d458404",
     "locked": true,
     "points": 2,
     "schema_version": 3,
     "solution": false,
     "task": false
    }
   },
   "outputs": [],
   "source": [
    "# Don't edit this cell\n",
    "\n",
    "if not \"df_finite4\" in globals():\n",
    "    raise NotImplementedError(\"df_finite4 has not been defined in Question 6\")\n",
    "if not \"err_FD4\" in globals():\n",
    "    raise NotImplementedError(\"err_FD4 has not been defined in Question 6\")\n",
    "\n"
   ]
  }
 ],
 "metadata": {
  "kernelspec": {
   "display_name": "Python 3 (ipykernel)",
   "language": "python",
   "name": "python3"
  },
  "language_info": {
   "codemirror_mode": {
    "name": "ipython",
    "version": 3
   },
   "file_extension": ".py",
   "mimetype": "text/x-python",
   "name": "python",
   "nbconvert_exporter": "python",
   "pygments_lexer": "ipython3",
   "version": "3.11.2"
  },
  "toc": {
   "base_numbering": 1,
   "nav_menu": {},
   "number_sections": false,
   "sideBar": true,
   "skip_h1_title": false,
   "title_cell": "Table of Contents",
   "title_sidebar": "Contents",
   "toc_cell": false,
   "toc_position": {},
   "toc_section_display": true,
   "toc_window_display": false
  }
 },
 "nbformat": 4,
 "nbformat_minor": 5
}
